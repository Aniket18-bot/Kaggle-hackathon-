{
 "cells": [
  {
   "cell_type": "code",
   "execution_count": 1,
   "id": "08a1724d",
   "metadata": {
    "_cell_guid": "b1076dfc-b9ad-4769-8c92-a6c4dae69d19",
    "_uuid": "8f2839f25d086af736a60e9eeb907d3b93b6e0e5",
    "execution": {
     "iopub.execute_input": "2025-06-11T05:36:52.713255Z",
     "iopub.status.busy": "2025-06-11T05:36:52.712829Z",
     "iopub.status.idle": "2025-06-11T05:36:54.642528Z",
     "shell.execute_reply": "2025-06-11T05:36:54.641448Z"
    },
    "papermill": {
     "duration": 1.934762,
     "end_time": "2025-06-11T05:36:54.644155",
     "exception": false,
     "start_time": "2025-06-11T05:36:52.709393",
     "status": "completed"
    },
    "tags": []
   },
   "outputs": [
    {
     "name": "stdout",
     "output_type": "stream",
     "text": [
      "/kaggle/input/summer-analytics-mid-hackathon/hacktest.csv\n",
      "/kaggle/input/summer-analytics-mid-hackathon/hacktrain.csv\n"
     ]
    }
   ],
   "source": [
    "# This Python 3 environment comes with many helpful analytics libraries installed\n",
    "# It is defined by the kaggle/python Docker image: https://github.com/kaggle/docker-python\n",
    "# For example, here's several helpful packages to load\n",
    "\n",
    "import numpy as np # linear algebra\n",
    "import pandas as pd # data processing, CSV file I/O (e.g. pd.read_csv)\n",
    "\n",
    "# Input data files are available in the read-only \"../input/\" directory\n",
    "# For example, running this (by clicking run or pressing Shift+Enter) will list all files under the input directory\n",
    "\n",
    "import os\n",
    "for dirname, _, filenames in os.walk('/kaggle/input'):\n",
    "    for filename in filenames:\n",
    "        print(os.path.join(dirname, filename))\n",
    "\n",
    "# You can write up to 20GB to the current directory (/kaggle/working/) that gets preserved as output when you create a version using \"Save & Run All\" \n",
    "# You can also write temporary files to /kaggle/temp/, but they won't be saved outside of the current session"
   ]
  },
  {
   "cell_type": "code",
   "execution_count": 2,
   "id": "6e46f883",
   "metadata": {
    "execution": {
     "iopub.execute_input": "2025-06-11T05:36:54.649117Z",
     "iopub.status.busy": "2025-06-11T05:36:54.648669Z",
     "iopub.status.idle": "2025-06-11T05:37:00.997500Z",
     "shell.execute_reply": "2025-06-11T05:37:00.996641Z"
    },
    "papermill": {
     "duration": 6.353055,
     "end_time": "2025-06-11T05:37:00.999212",
     "exception": false,
     "start_time": "2025-06-11T05:36:54.646157",
     "status": "completed"
    },
    "tags": []
   },
   "outputs": [
    {
     "name": "stdout",
     "output_type": "stream",
     "text": [
      "Cross-validated Accuracy: 0.91525 +/- 0.00432\n",
      "Submission file saved as submission_logistic_regression.csv\n"
     ]
    }
   ],
   "source": [
    "\n",
    "import pandas as pd \n",
    "import numpy as np \n",
    "from sklearn.impute import SimpleImputer \n",
    "from sklearn.preprocessing import StandardScaler, LabelEncoder \n",
    "from sklearn.linear_model import LogisticRegression \n",
    "from sklearn.pipeline import Pipeline \n",
    "from sklearn.model_selection import StratifiedKFold, cross_val_score \n",
    "from sklearn.metrics import accuracy_score\n",
    "\n",
    "\n",
    "train_df = pd.read_csv(\"/kaggle/input/summer-analytics-mid-hackathon/hacktrain.csv\") \n",
    "test_df = pd.read_csv(\"/kaggle/input/summer-analytics-mid-hackathon/hacktest.csv\")\n",
    "\n",
    "train_df.drop(columns=['Unnamed: 0'], inplace=True) \n",
    "test_df.drop(columns=['Unnamed: 0'], inplace=True)\n",
    "\n",
    "X = train_df.drop(columns=['class', 'ID']) \n",
    "y = train_df['class'] \n",
    "X_test = test_df.drop(columns=['ID'])\n",
    "\n",
    "for df in [X, X_test]: \n",
    "    df['mean'] = df.mean(axis=1) \n",
    "    df['std'] = df.std(axis=1) \n",
    "    df['min'] = df.min(axis=1) \n",
    "    df['max'] = df.max(axis=1) \n",
    "    df['median'] = df.median(axis=1) \n",
    "    df['skew'] = df.skew(axis=1)\n",
    "    diffs = df.iloc[:, :-6].diff(axis=1).dropna(axis=1)\n",
    "    df['diff_mean'] = diffs.mean(axis=1)\n",
    "    df['diff_std'] = diffs.std(axis=1)\n",
    "\n",
    "label_encoder = LabelEncoder() \n",
    "y_encoded = label_encoder.fit_transform(y)\n",
    "\n",
    "pipeline = Pipeline([ ('imputer', SimpleImputer(strategy='mean')), ('scaler', StandardScaler()), ('classifier', LogisticRegression(max_iter=1000, multi_class='multinomial', solver='lbfgs', C=0.5)) ])\n",
    "\n",
    "skf = StratifiedKFold(n_splits=5, shuffle=True, random_state=42) \n",
    "scores = cross_val_score(pipeline, X, y_encoded, cv=skf, scoring='accuracy') \n",
    "print(f\"Cross-validated Accuracy: {scores.mean():.5f} +/- {scores.std():.5f}\")\n",
    "\n",
    "\n",
    "pipeline.fit(X, y_encoded) \n",
    "test_preds_encoded = pipeline.predict(X_test) \n",
    "test_preds = label_encoder.inverse_transform(test_preds_encoded)\n",
    "\n",
    "submission_df = pd.DataFrame({ 'ID': test_df['ID'], 'class': test_preds }) \n",
    "submission_df.to_csv(\"submission_logistic_regression.csv\", index=False) \n",
    "print(\"Submission file saved as submission_logistic_regression.csv\")\n",
    "\n"
   ]
  }
 ],
 "metadata": {
  "kaggle": {
   "accelerator": "none",
   "dataSources": [
    {
     "databundleVersionId": 12585144,
     "sourceId": 104491,
     "sourceType": "competition"
    }
   ],
   "dockerImageVersionId": 31040,
   "isGpuEnabled": false,
   "isInternetEnabled": false,
   "language": "python",
   "sourceType": "notebook"
  },
  "kernelspec": {
   "display_name": "Python 3",
   "language": "python",
   "name": "python3"
  },
  "language_info": {
   "codemirror_mode": {
    "name": "ipython",
    "version": 3
   },
   "file_extension": ".py",
   "mimetype": "text/x-python",
   "name": "python",
   "nbconvert_exporter": "python",
   "pygments_lexer": "ipython3",
   "version": "3.11.11"
  },
  "papermill": {
   "default_parameters": {},
   "duration": 13.72806,
   "end_time": "2025-06-11T05:37:01.622538",
   "environment_variables": {},
   "exception": null,
   "input_path": "__notebook__.ipynb",
   "output_path": "__notebook__.ipynb",
   "parameters": {},
   "start_time": "2025-06-11T05:36:47.894478",
   "version": "2.6.0"
  }
 },
 "nbformat": 4,
 "nbformat_minor": 5
}
