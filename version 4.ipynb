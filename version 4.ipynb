{
 "cells": [
  {
   "cell_type": "code",
   "execution_count": 1,
   "id": "6a2f5728",
   "metadata": {
    "_cell_guid": "b1076dfc-b9ad-4769-8c92-a6c4dae69d19",
    "_uuid": "8f2839f25d086af736a60e9eeb907d3b93b6e0e5",
    "execution": {
     "iopub.execute_input": "2025-06-11T05:51:14.707545Z",
     "iopub.status.busy": "2025-06-11T05:51:14.707228Z",
     "iopub.status.idle": "2025-06-11T05:51:16.715057Z",
     "shell.execute_reply": "2025-06-11T05:51:16.714086Z"
    },
    "papermill": {
     "duration": 2.013057,
     "end_time": "2025-06-11T05:51:16.716947",
     "exception": false,
     "start_time": "2025-06-11T05:51:14.703890",
     "status": "completed"
    },
    "tags": []
   },
   "outputs": [
    {
     "name": "stdout",
     "output_type": "stream",
     "text": [
      "/kaggle/input/summer-analytics-mid-hackathon/hacktest.csv\n",
      "/kaggle/input/summer-analytics-mid-hackathon/hacktrain.csv\n"
     ]
    }
   ],
   "source": [
    "# This Python 3 environment comes with many helpful analytics libraries installed\n",
    "# It is defined by the kaggle/python Docker image: https://github.com/kaggle/docker-python\n",
    "# For example, here's several helpful packages to load\n",
    "\n",
    "import numpy as np # linear algebra\n",
    "import pandas as pd # data processing, CSV file I/O (e.g. pd.read_csv)\n",
    "\n",
    "# Input data files are available in the read-only \"../input/\" directory\n",
    "# For example, running this (by clicking run or pressing Shift+Enter) will list all files under the input directory\n",
    "\n",
    "import os\n",
    "for dirname, _, filenames in os.walk('/kaggle/input'):\n",
    "    for filename in filenames:\n",
    "        print(os.path.join(dirname, filename))\n",
    "\n",
    "# You can write up to 20GB to the current directory (/kaggle/working/) that gets preserved as output when you create a version using \"Save & Run All\" \n",
    "# You can also write temporary files to /kaggle/temp/, but they won't be saved outside of the current session"
   ]
  },
  {
   "cell_type": "code",
   "execution_count": 2,
   "id": "8e9acec4",
   "metadata": {
    "execution": {
     "iopub.execute_input": "2025-06-11T05:51:16.722570Z",
     "iopub.status.busy": "2025-06-11T05:51:16.722115Z",
     "iopub.status.idle": "2025-06-11T05:58:50.583380Z",
     "shell.execute_reply": "2025-06-11T05:58:50.582569Z"
    },
    "papermill": {
     "duration": 453.869666,
     "end_time": "2025-06-11T05:58:50.588920",
     "exception": false,
     "start_time": "2025-06-11T05:51:16.719254",
     "status": "completed"
    },
    "tags": []
   },
   "outputs": [
    {
     "name": "stderr",
     "output_type": "stream",
     "text": [
      "/usr/local/lib/python3.11/dist-packages/pandas/core/computation/expressions.py:73: RuntimeWarning: invalid value encountered in greater\n",
      "  return op(a, b)\n",
      "/usr/local/lib/python3.11/dist-packages/pandas/core/computation/expressions.py:73: RuntimeWarning: invalid value encountered in less\n",
      "  return op(a, b)\n",
      "/usr/local/lib/python3.11/dist-packages/sklearn/linear_model/_logistic.py:458: ConvergenceWarning: lbfgs failed to converge (status=1):\n",
      "STOP: TOTAL NO. OF ITERATIONS REACHED LIMIT.\n",
      "\n",
      "Increase the number of iterations (max_iter) or scale the data as shown in:\n",
      "    https://scikit-learn.org/stable/modules/preprocessing.html\n",
      "Please also refer to the documentation for alternative solver options:\n",
      "    https://scikit-learn.org/stable/modules/linear_model.html#logistic-regression\n",
      "  n_iter_i = _check_optimize_result(\n"
     ]
    },
    {
     "name": "stdout",
     "output_type": "stream",
     "text": [
      "Best Logistic Regression C: 0.1\n",
      "Cross-validated Accuracy: 0.95000\n",
      "Saved submission_logistic_regression.csv with maxed-out features.\n"
     ]
    }
   ],
   "source": [
    "\n",
    "import pandas as pd \n",
    "import numpy as np \n",
    "from sklearn.impute import SimpleImputer \n",
    "from sklearn.preprocessing import StandardScaler, LabelEncoder, PolynomialFeatures \n",
    "from sklearn.linear_model import LogisticRegression \n",
    "from sklearn.pipeline import Pipeline \n",
    "from sklearn.model_selection import StratifiedKFold, GridSearchCV \n",
    "from sklearn.metrics import accuracy_score\n",
    "\n",
    "train_df = pd.read_csv(\"/kaggle/input/summer-analytics-mid-hackathon/hacktrain.csv\") \n",
    "test_df = pd.read_csv(\"/kaggle/input/summer-analytics-mid-hackathon/hacktest.csv\")\n",
    "\n",
    "train_df.drop(columns=['Unnamed: 0'], inplace=True) \n",
    "test_df.drop(columns=['Unnamed: 0'], inplace=True)\n",
    "\n",
    "X = train_df.drop(columns=['class', 'ID']) \n",
    "y = train_df['class'] \n",
    "X_test = test_df.drop(columns=['ID'])\n",
    "\n",
    "y_encoded = LabelEncoder().fit_transform(y)\n",
    "\n",
    "\n",
    "date_cols = X.columns.tolist()\n",
    "\n",
    "\n",
    "for df in [X, X_test]: \n",
    "    df['ndvi_mean'] = df[date_cols].mean(axis=1) \n",
    "    df['ndvi_std'] = df[date_cols].std(axis=1) \n",
    "    df['ndvi_min'] = df[date_cols].min(axis=1) \n",
    "    df['ndvi_max'] = df[date_cols].max(axis=1) \n",
    "    df['ndvi_median'] = df[date_cols].median(axis=1) \n",
    "    df['ndvi_skew'] = df[date_cols].skew(axis=1) \n",
    "    df['ndvi_nan_count'] = df[date_cols].isna().sum(axis=1) \n",
    "    df['ndvi_above_03'] = (df[date_cols] > 0.3).sum(axis=1) \n",
    "    df['ndvi_below_01'] = (df[date_cols] < 0.1).sum(axis=1)\n",
    "    diffs = df[date_cols].diff(axis=1).dropna(axis=1)\n",
    "    df['ndvi_diff_mean'] = diffs.mean(axis=1)\n",
    "    df['ndvi_diff_std'] = diffs.std(axis=1)\n",
    "\n",
    "imputer = SimpleImputer(strategy='mean') \n",
    "X_imputed = imputer.fit_transform(X) \n",
    "X_test_imputed = imputer.transform(X_test)\n",
    "\n",
    "scaler = StandardScaler() \n",
    "X_scaled = scaler.fit_transform(X_imputed) \n",
    "X_test_scaled = scaler.transform(X_test_imputed)\n",
    "\n",
    "\n",
    "poly = PolynomialFeatures(degree=2, include_bias=False) \n",
    "X_poly = poly.fit_transform(X_scaled) \n",
    "X_test_poly = poly.transform(X_test_scaled)\n",
    "\n",
    "param_grid = {'C': [0.1, 0.5, 1.0, 2.0, 5.0]} \n",
    "model = LogisticRegression(max_iter=1000, multi_class='multinomial', solver='lbfgs') \n",
    "skf = StratifiedKFold(n_splits=5, shuffle=True, random_state=42) \n",
    "grid = GridSearchCV(model, param_grid, cv=skf, scoring='accuracy') \n",
    "grid.fit(X_poly, y_encoded)\n",
    "\n",
    "print(f\"Best Logistic Regression C: {grid.best_params_['C']}\") \n",
    "print(f\"Cross-validated Accuracy: {grid.best_score_:.5f}\")\n",
    "\n",
    "\n",
    "best_model = grid.best_estimator_ \n",
    "test_preds_encoded = best_model.predict(X_test_poly) \n",
    "label_encoder = LabelEncoder().fit(y) \n",
    "test_preds = label_encoder.inverse_transform(test_preds_encoded)\n",
    "\n",
    "submission_df = pd.DataFrame({ 'ID': test_df['ID'], 'class': test_preds }) \n",
    "submission_df.to_csv(\"submission_logistic_regression.csv\", index=False) \n",
    "print(\"Saved submission_logistic_regression.csv with maxed-out features.\")\n",
    "\n"
   ]
  }
 ],
 "metadata": {
  "kaggle": {
   "accelerator": "none",
   "dataSources": [
    {
     "databundleVersionId": 12585144,
     "sourceId": 104491,
     "sourceType": "competition"
    }
   ],
   "dockerImageVersionId": 31040,
   "isGpuEnabled": false,
   "isInternetEnabled": false,
   "language": "python",
   "sourceType": "notebook"
  },
  "kernelspec": {
   "display_name": "Python 3",
   "language": "python",
   "name": "python3"
  },
  "language_info": {
   "codemirror_mode": {
    "name": "ipython",
    "version": 3
   },
   "file_extension": ".py",
   "mimetype": "text/x-python",
   "name": "python",
   "nbconvert_exporter": "python",
   "pygments_lexer": "ipython3",
   "version": "3.11.11"
  },
  "papermill": {
   "default_parameters": {},
   "duration": 461.514137,
   "end_time": "2025-06-11T05:58:51.214998",
   "environment_variables": {},
   "exception": null,
   "input_path": "__notebook__.ipynb",
   "output_path": "__notebook__.ipynb",
   "parameters": {},
   "start_time": "2025-06-11T05:51:09.700861",
   "version": "2.6.0"
  }
 },
 "nbformat": 4,
 "nbformat_minor": 5
}
